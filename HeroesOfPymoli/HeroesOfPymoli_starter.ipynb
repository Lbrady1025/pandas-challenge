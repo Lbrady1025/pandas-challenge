{
 "cells": [
  {
   "cell_type": "markdown",
   "metadata": {},
   "source": [
    "### Note\n",
    "* Instructions have been included for each segment. You do not have to follow them exactly, but they are included to help you think through the steps."
   ]
  },
  {
   "cell_type": "code",
   "execution_count": 403,
   "metadata": {},
   "outputs": [],
   "source": [
    "# Dependencies and Setup\n",
    "import pandas as pd\n",
    "\n",
    "# File to Load (Remember to Change These)\n",
    "file_to_load = \"Resources/purchase_data.csv\"\n",
    "\n",
    "# Read Purchasing File and store into Pandas data frame\n",
    "purchase_data = pd.read_csv(file_to_load)"
   ]
  },
  {
   "cell_type": "markdown",
   "metadata": {},
   "source": [
    "## Player Count"
   ]
  },
  {
   "cell_type": "markdown",
   "metadata": {},
   "source": [
    "* Display the total number of players\n"
   ]
  },
  {
   "cell_type": "code",
   "execution_count": 404,
   "metadata": {},
   "outputs": [
    {
     "output_type": "execute_result",
     "data": {
      "text/plain": "   Total Players\n0            576",
      "text/html": "<div>\n<style scoped>\n    .dataframe tbody tr th:only-of-type {\n        vertical-align: middle;\n    }\n\n    .dataframe tbody tr th {\n        vertical-align: top;\n    }\n\n    .dataframe thead th {\n        text-align: right;\n    }\n</style>\n<table border=\"1\" class=\"dataframe\">\n  <thead>\n    <tr style=\"text-align: right;\">\n      <th></th>\n      <th>Total Players</th>\n    </tr>\n  </thead>\n  <tbody>\n    <tr>\n      <th>0</th>\n      <td>576</td>\n    </tr>\n  </tbody>\n</table>\n</div>"
     },
     "metadata": {},
     "execution_count": 404
    }
   ],
   "source": [
    "unique_players = purchase_data[\"SN\"].unique()\n",
    "total_players = pd.DataFrame(unique_players)\n",
    "sum_players = total_players.count()\n",
    "player_result = pd.DataFrame({\"Total Players\":sum_players})\n",
    "player_result\n"
   ]
  },
  {
   "cell_type": "markdown",
   "metadata": {},
   "source": [
    "## Purchasing Analysis (Total)"
   ]
  },
  {
   "cell_type": "markdown",
   "metadata": {},
   "source": [
    "* Run basic calculations to obtain number of unique items, average price, etc.\n",
    "\n",
    "\n",
    "* Create a summary data frame to hold the results\n",
    "\n",
    "\n",
    "* Optional: give the displayed data cleaner formatting\n",
    "\n",
    "\n",
    "* Display the summary data frame\n"
   ]
  },
  {
   "cell_type": "code",
   "execution_count": 405,
   "metadata": {
    "scrolled": true
   },
   "outputs": [
    {
     "output_type": "execute_result",
     "data": {
      "text/plain": "   Number of Unique Items Average Price  Number of Purchases Total Revenue\n0                     179         $3.05                  780     $2,379.77",
      "text/html": "<div>\n<style scoped>\n    .dataframe tbody tr th:only-of-type {\n        vertical-align: middle;\n    }\n\n    .dataframe tbody tr th {\n        vertical-align: top;\n    }\n\n    .dataframe thead th {\n        text-align: right;\n    }\n</style>\n<table border=\"1\" class=\"dataframe\">\n  <thead>\n    <tr style=\"text-align: right;\">\n      <th></th>\n      <th>Number of Unique Items</th>\n      <th>Average Price</th>\n      <th>Number of Purchases</th>\n      <th>Total Revenue</th>\n    </tr>\n  </thead>\n  <tbody>\n    <tr>\n      <th>0</th>\n      <td>179</td>\n      <td>$3.05</td>\n      <td>780</td>\n      <td>$2,379.77</td>\n    </tr>\n  </tbody>\n</table>\n</div>"
     },
     "metadata": {},
     "execution_count": 405
    }
   ],
   "source": [
    "unique_items = len(purchase_data[\"Item ID\"].unique())\n",
    "avg_price = purchase_data[\"Price\"].mean()\n",
    "num_purchases = len(purchase_data[\"Purchase ID\"].value_counts())\n",
    "total_revenue = sum(purchase_data[\"Price\"])\n",
    "\n",
    "summary_df = pd.DataFrame({\"Number of Unique Items\":[unique_items],\"Average Price\":[avg_price],\"Number of Purchases\":[num_purchases],\"Total Revenue\":[total_revenue]})\n",
    "summary_df[\"Average Price\"] = summary_df[\"Average Price\"].astype(float).map(\"${:,.2f}\".format)\n",
    "summary_df[\"Total Revenue\"] = summary_df[\"Total Revenue\"].astype(float).map(\"${:,.2f}\".format)\n",
    "summary_df"
   ]
  },
  {
   "cell_type": "markdown",
   "metadata": {},
   "source": [
    "## Gender Demographics"
   ]
  },
  {
   "cell_type": "markdown",
   "metadata": {},
   "source": [
    "* Percentage and Count of Male Players\n",
    "\n",
    "\n",
    "* Percentage and Count of Female Players\n",
    "\n",
    "\n",
    "* Percentage and Count of Other / Non-Disclosed\n",
    "\n",
    "\n"
   ]
  },
  {
   "cell_type": "code",
   "execution_count": 406,
   "metadata": {},
   "outputs": [
    {
     "output_type": "execute_result",
     "data": {
      "text/plain": "                       Total Count Percentage of Players\nMale                           484                84.03%\nFemale                          81                14.06%\nOther / Non-Disclosed           11                 1.91%",
      "text/html": "<div>\n<style scoped>\n    .dataframe tbody tr th:only-of-type {\n        vertical-align: middle;\n    }\n\n    .dataframe tbody tr th {\n        vertical-align: top;\n    }\n\n    .dataframe thead th {\n        text-align: right;\n    }\n</style>\n<table border=\"1\" class=\"dataframe\">\n  <thead>\n    <tr style=\"text-align: right;\">\n      <th></th>\n      <th>Total Count</th>\n      <th>Percentage of Players</th>\n    </tr>\n  </thead>\n  <tbody>\n    <tr>\n      <th>Male</th>\n      <td>484</td>\n      <td>84.03%</td>\n    </tr>\n    <tr>\n      <th>Female</th>\n      <td>81</td>\n      <td>14.06%</td>\n    </tr>\n    <tr>\n      <th>Other / Non-Disclosed</th>\n      <td>11</td>\n      <td>1.91%</td>\n    </tr>\n  </tbody>\n</table>\n</div>"
     },
     "metadata": {},
     "execution_count": 406
    }
   ],
   "source": [
    "#purchase_data.sort_values(\"SN\", inplace = True)\n",
    "dedupe_df = purchase_data.drop_duplicates(subset = \"SN\", keep = \"first\")\n",
    "gender_count = dedupe_df[\"Gender\"].value_counts()\n",
    "gender_pct = (dedupe_df[\"Gender\"].value_counts()/dedupe_df[\"Gender\"].count())*100\n",
    "gender_count_df = pd.DataFrame({\"Total Count\":gender_count,\"Percentage of Players\":gender_pct})\n",
    "gender_count_df[\"Percentage of Players\"] = gender_count_df[\"Percentage of Players\"].astype(float).map(\"{:,.2f}%\".format)\n",
    "gender_count_df"
   ]
  },
  {
   "cell_type": "markdown",
   "metadata": {},
   "source": [
    "\n",
    "## Purchasing Analysis (Gender)"
   ]
  },
  {
   "cell_type": "markdown",
   "metadata": {},
   "source": [
    "* Run basic calculations to obtain purchase count, avg. purchase price, avg. purchase total per person etc. by gender\n",
    "\n",
    "\n",
    "\n",
    "\n",
    "* Create a summary data frame to hold the results\n",
    "\n",
    "\n",
    "* Optional: give the displayed data cleaner formatting\n",
    "\n",
    "\n",
    "* Display the summary data frame"
   ]
  },
  {
   "cell_type": "code",
   "execution_count": 407,
   "metadata": {},
   "outputs": [
    {
     "output_type": "execute_result",
     "data": {
      "text/plain": "                       Purchase Count Average Purchase Price  \\\nGender                                                         \nFemale                            113                  $3.20   \nMale                              652                  $3.02   \nOther / Non-Disclosed              15                  $3.35   \n\n                      Total Purchase Value Avg Total Purchase per Person  \nGender                                                                    \nFemale                             $361.94                         $4.47  \nMale                             $1,967.64                         $4.07  \nOther / Non-Disclosed               $50.19                         $4.56  ",
      "text/html": "<div>\n<style scoped>\n    .dataframe tbody tr th:only-of-type {\n        vertical-align: middle;\n    }\n\n    .dataframe tbody tr th {\n        vertical-align: top;\n    }\n\n    .dataframe thead th {\n        text-align: right;\n    }\n</style>\n<table border=\"1\" class=\"dataframe\">\n  <thead>\n    <tr style=\"text-align: right;\">\n      <th></th>\n      <th>Purchase Count</th>\n      <th>Average Purchase Price</th>\n      <th>Total Purchase Value</th>\n      <th>Avg Total Purchase per Person</th>\n    </tr>\n    <tr>\n      <th>Gender</th>\n      <th></th>\n      <th></th>\n      <th></th>\n      <th></th>\n    </tr>\n  </thead>\n  <tbody>\n    <tr>\n      <th>Female</th>\n      <td>113</td>\n      <td>$3.20</td>\n      <td>$361.94</td>\n      <td>$4.47</td>\n    </tr>\n    <tr>\n      <th>Male</th>\n      <td>652</td>\n      <td>$3.02</td>\n      <td>$1,967.64</td>\n      <td>$4.07</td>\n    </tr>\n    <tr>\n      <th>Other / Non-Disclosed</th>\n      <td>15</td>\n      <td>$3.35</td>\n      <td>$50.19</td>\n      <td>$4.56</td>\n    </tr>\n  </tbody>\n</table>\n</div>"
     },
     "metadata": {},
     "execution_count": 407
    }
   ],
   "source": [
    "gender_group = purchase_data.groupby([\"Gender\"])\n",
    "purchase_count = gender_group[\"Purchase ID\"].count()\n",
    "avg_purchase_price = gender_group[\"Price\"].mean()\n",
    "total_purchase_value = gender_group[\"Price\"].sum()\n",
    "avg_total_purchase = total_purchase_value/gender_count\n",
    "\n",
    "gg_df = pd.DataFrame({\"Purchase Count\":purchase_count,\"Average Purchase Price\":avg_purchase_price,\"Total Purchase Value\":total_purchase_value,\"Avg Total Purchase per Person\":avg_total_purchase})\n",
    "gg_df[\"Average Purchase Price\"] = gg_df[\"Average Purchase Price\"].astype(float).map(\"${:,.2f}\".format)\n",
    "gg_df[\"Total Purchase Value\"] = gg_df[\"Total Purchase Value\"].astype(float).map(\"${:,.2f}\".format)\n",
    "gg_df[\"Avg Total Purchase per Person\"] = gg_df[\"Avg Total Purchase per Person\"].astype(float).map(\"${:,.2f}\".format)\n",
    "gg_df\n"
   ]
  },
  {
   "cell_type": "markdown",
   "metadata": {},
   "source": [
    "## Age Demographics"
   ]
  },
  {
   "cell_type": "markdown",
   "metadata": {},
   "source": [
    "* Establish bins for ages\n",
    "\n",
    "\n",
    "* Categorize the existing players using the age bins. Hint: use pd.cut()\n",
    "\n",
    "\n",
    "* Calculate the numbers and percentages by age group\n",
    "\n",
    "\n",
    "* Create a summary data frame to hold the results\n",
    "\n",
    "\n",
    "* Optional: round the percentage column to two decimal points\n",
    "\n",
    "\n",
    "* Display Age Demographics Table\n"
   ]
  },
  {
   "cell_type": "code",
   "execution_count": 408,
   "metadata": {},
   "outputs": [
    {
     "output_type": "execute_result",
     "data": {
      "text/plain": "       Total Count Percentage of Players\n                                        \n<10             17                 2.95%\n10-14           22                 3.82%\n15-19          107                18.58%\n20-24          258                44.79%\n25-29           77                13.37%\n30-34           52                 9.03%\n35-39           31                 5.38%\n40+             12                 2.08%",
      "text/html": "<div>\n<style scoped>\n    .dataframe tbody tr th:only-of-type {\n        vertical-align: middle;\n    }\n\n    .dataframe tbody tr th {\n        vertical-align: top;\n    }\n\n    .dataframe thead th {\n        text-align: right;\n    }\n</style>\n<table border=\"1\" class=\"dataframe\">\n  <thead>\n    <tr style=\"text-align: right;\">\n      <th></th>\n      <th>Total Count</th>\n      <th>Percentage of Players</th>\n    </tr>\n    <tr>\n      <th></th>\n      <th></th>\n      <th></th>\n    </tr>\n  </thead>\n  <tbody>\n    <tr>\n      <th>&lt;10</th>\n      <td>17</td>\n      <td>2.95%</td>\n    </tr>\n    <tr>\n      <th>10-14</th>\n      <td>22</td>\n      <td>3.82%</td>\n    </tr>\n    <tr>\n      <th>15-19</th>\n      <td>107</td>\n      <td>18.58%</td>\n    </tr>\n    <tr>\n      <th>20-24</th>\n      <td>258</td>\n      <td>44.79%</td>\n    </tr>\n    <tr>\n      <th>25-29</th>\n      <td>77</td>\n      <td>13.37%</td>\n    </tr>\n    <tr>\n      <th>30-34</th>\n      <td>52</td>\n      <td>9.03%</td>\n    </tr>\n    <tr>\n      <th>35-39</th>\n      <td>31</td>\n      <td>5.38%</td>\n    </tr>\n    <tr>\n      <th>40+</th>\n      <td>12</td>\n      <td>2.08%</td>\n    </tr>\n  </tbody>\n</table>\n</div>"
     },
     "metadata": {},
     "execution_count": 408
    }
   ],
   "source": [
    "bins = [0,9.9,14,19,24,29,34,39,100]\n",
    "group_names = [\"<10\",\"10-14\",\"15-19\",\"20-24\",\"25-29\",\"30-34\",\"35-39\",\"40+\"]\n",
    "\n",
    "age_df = dedupe_df[[\"Age\"]]\n",
    "age_df[\"\"] = pd.cut(age_df[\"Age\"], bins, labels = group_names, include_lowest = True)\n",
    "\n",
    "age_summary_df = pd.DataFrame(age_df.groupby([\"\"]).count())\n",
    "age_summary_df[\"Percentage of Players\"] = pd.to_numeric((age_summary_df[\"Age\"]/age_summary_df[\"Age\"].sum())*100).astype(float).map(\"{:,.2f}%\".format)\n",
    "age_summary_df = age_summary_df.rename(columns={\"Age\":\"Total Count\"})\n",
    "\n",
    "age_summary_df"
   ]
  },
  {
   "cell_type": "markdown",
   "metadata": {},
   "source": [
    "## Purchasing Analysis (Age)"
   ]
  },
  {
   "cell_type": "markdown",
   "metadata": {},
   "source": [
    "* Bin the purchase_data data frame by age\n",
    "\n",
    "\n",
    "* Run basic calculations to obtain purchase count, avg. purchase price, avg. purchase total per person etc. in the table below\n",
    "\n",
    "\n",
    "* Create a summary data frame to hold the results\n",
    "\n",
    "\n",
    "* Optional: give the displayed data cleaner formatting\n",
    "\n",
    "\n",
    "* Display the summary data frame"
   ]
  },
  {
   "cell_type": "code",
   "execution_count": 409,
   "metadata": {},
   "outputs": [
    {
     "output_type": "execute_result",
     "data": {
      "text/plain": "            Purchase Count Average Purchase Price Total Purchase Value\nAge Ranges                                                            \n<10                     23                  $3.35               $77.13\n10-14                   28                  $2.96               $82.78\n15-19                  136                  $3.04              $412.89\n20-24                  365                  $3.05            $1,114.06\n25-29                  101                  $2.90              $293.00\n30-34                   73                  $2.93              $214.00\n35-39                   41                  $3.60              $147.67\n40+                     13                  $2.94               $38.24",
      "text/html": "<div>\n<style scoped>\n    .dataframe tbody tr th:only-of-type {\n        vertical-align: middle;\n    }\n\n    .dataframe tbody tr th {\n        vertical-align: top;\n    }\n\n    .dataframe thead th {\n        text-align: right;\n    }\n</style>\n<table border=\"1\" class=\"dataframe\">\n  <thead>\n    <tr style=\"text-align: right;\">\n      <th></th>\n      <th>Purchase Count</th>\n      <th>Average Purchase Price</th>\n      <th>Total Purchase Value</th>\n    </tr>\n    <tr>\n      <th>Age Ranges</th>\n      <th></th>\n      <th></th>\n      <th></th>\n    </tr>\n  </thead>\n  <tbody>\n    <tr>\n      <th>&lt;10</th>\n      <td>23</td>\n      <td>$3.35</td>\n      <td>$77.13</td>\n    </tr>\n    <tr>\n      <th>10-14</th>\n      <td>28</td>\n      <td>$2.96</td>\n      <td>$82.78</td>\n    </tr>\n    <tr>\n      <th>15-19</th>\n      <td>136</td>\n      <td>$3.04</td>\n      <td>$412.89</td>\n    </tr>\n    <tr>\n      <th>20-24</th>\n      <td>365</td>\n      <td>$3.05</td>\n      <td>$1,114.06</td>\n    </tr>\n    <tr>\n      <th>25-29</th>\n      <td>101</td>\n      <td>$2.90</td>\n      <td>$293.00</td>\n    </tr>\n    <tr>\n      <th>30-34</th>\n      <td>73</td>\n      <td>$2.93</td>\n      <td>$214.00</td>\n    </tr>\n    <tr>\n      <th>35-39</th>\n      <td>41</td>\n      <td>$3.60</td>\n      <td>$147.67</td>\n    </tr>\n    <tr>\n      <th>40+</th>\n      <td>13</td>\n      <td>$2.94</td>\n      <td>$38.24</td>\n    </tr>\n  </tbody>\n</table>\n</div>"
     },
     "metadata": {},
     "execution_count": 409
    }
   ],
   "source": [
    "bins = [0,9.9,14,19,24,29,34,39,100]\n",
    "group_names = [\"<10\",\"10-14\",\"15-19\",\"20-24\",\"25-29\",\"30-34\",\"35-39\",\"40+\"]\n",
    "\n",
    "purchase_df = purchase_data[[\"Purchase ID\",\"SN\",\"Age\",\"Price\"]]\n",
    "\n",
    "#purchase_dedupe_df = purchase_df.drop_duplicates(subset = \"SN\", keep = \"first\")\n",
    "#unique_sn = purchase_dedupe_df[\"SN\"].count()\n",
    "\n",
    "purchase_df[\"Age Ranges\"] = pd.cut(purchase_df[\"Age\"], bins, labels = group_names, include_lowest = True)\n",
    "#purchase_df = purchase_df.set_index(\"Age Ranges\")\n",
    "\n",
    "age_range = purchase_df[\"Age Ranges\"].count()\n",
    "#ge_range.head(10)\n",
    "\n",
    "grouped_purchase_df = purchase_df.groupby([\"Age Ranges\"])\n",
    "\n",
    "purchase_count = grouped_purchase_df[\"Purchase ID\"].count()\n",
    "avg_price = grouped_purchase_df[\"Price\"].mean().astype(float).map(\"${:,.2f}\".format)\n",
    "total_purchase_value = grouped_purchase_df[\"Price\"].sum().astype(float).map(\"${:,.2f}\".format)\n",
    "unique_sn = grouped_purchase_df[\"SN\"].unique().count()\n",
    "#avg_purchase = total_purchase_value/unique_sn\n",
    "\n",
    "summary_purchase_df = pd.DataFrame({\"Purchase Count\":purchase_count,\"Average Purchase Price\":avg_price,\"Total Purchase Value\":total_purchase_value})#,\"Average Purchase per Person\":avg_purchase})\n",
    "#grouped_purchase_df.count()\n",
    "summary_purchase_df"
   ]
  },
  {
   "cell_type": "markdown",
   "metadata": {},
   "source": [
    "## Top Spenders"
   ]
  },
  {
   "cell_type": "markdown",
   "metadata": {},
   "source": [
    "* Run basic calculations to obtain the results in the table below\n",
    "\n",
    "\n",
    "* Create a summary data frame to hold the results\n",
    "\n",
    "\n",
    "* Sort the total purchase value column in descending order\n",
    "\n",
    "\n",
    "* Optional: give the displayed data cleaner formatting\n",
    "\n",
    "\n",
    "* Display a preview of the summary data frame\n",
    "\n"
   ]
  },
  {
   "cell_type": "code",
   "execution_count": 410,
   "metadata": {},
   "outputs": [
    {
     "output_type": "execute_result",
     "data": {
      "text/plain": "             Purchase Count Average Purchase Price Total Purchase Price\nSN                                                                     \nLisosia93                 5                  $3.79               $18.96\nIdastidru52               4                  $3.86               $15.45\nChamjask73                3                  $4.61               $13.83\nIral74                    4                  $3.40               $13.62\nIskadarya95               3                  $4.37               $13.10",
      "text/html": "<div>\n<style scoped>\n    .dataframe tbody tr th:only-of-type {\n        vertical-align: middle;\n    }\n\n    .dataframe tbody tr th {\n        vertical-align: top;\n    }\n\n    .dataframe thead th {\n        text-align: right;\n    }\n</style>\n<table border=\"1\" class=\"dataframe\">\n  <thead>\n    <tr style=\"text-align: right;\">\n      <th></th>\n      <th>Purchase Count</th>\n      <th>Average Purchase Price</th>\n      <th>Total Purchase Price</th>\n    </tr>\n    <tr>\n      <th>SN</th>\n      <th></th>\n      <th></th>\n      <th></th>\n    </tr>\n  </thead>\n  <tbody>\n    <tr>\n      <th>Lisosia93</th>\n      <td>5</td>\n      <td>$3.79</td>\n      <td>$18.96</td>\n    </tr>\n    <tr>\n      <th>Idastidru52</th>\n      <td>4</td>\n      <td>$3.86</td>\n      <td>$15.45</td>\n    </tr>\n    <tr>\n      <th>Chamjask73</th>\n      <td>3</td>\n      <td>$4.61</td>\n      <td>$13.83</td>\n    </tr>\n    <tr>\n      <th>Iral74</th>\n      <td>4</td>\n      <td>$3.40</td>\n      <td>$13.62</td>\n    </tr>\n    <tr>\n      <th>Iskadarya95</th>\n      <td>3</td>\n      <td>$4.37</td>\n      <td>$13.10</td>\n    </tr>\n  </tbody>\n</table>\n</div>"
     },
     "metadata": {},
     "execution_count": 410
    }
   ],
   "source": [
    "top_spenders_df = purchase_data[[\"Purchase ID\",\"SN\",\"Price\"]]\n",
    "\n",
    "grouped_ts_df = top_spenders_df.groupby([\"SN\"])\n",
    "\n",
    "ts_purchase_count = grouped_ts_df[\"Purchase ID\"].count()\n",
    "ts_avg_price = grouped_ts_df[\"Price\"].mean().astype(float).map(\"${:,.2f}\".format)\n",
    "ts_total_price = grouped_ts_df[\"Price\"].sum()\n",
    "\n",
    "summary_ts_df = pd.DataFrame({\"Purchase Count\":ts_purchase_count,\"Average Purchase Price\":ts_avg_price,\"Total Purchase Price\":ts_total_price})\n",
    "summary_ts_df = summary_ts_df.sort_values(by=\"Total Purchase Price\",ascending=False)\n",
    "summary_ts_df[\"Total Purchase Price\"] = summary_ts_df[\"Total Purchase Price\"].astype(float).map(\"${:,.2f}\".format)\n",
    "summary_ts_df.head(5)"
   ]
  },
  {
   "cell_type": "markdown",
   "metadata": {},
   "source": [
    "## Most Popular Items"
   ]
  },
  {
   "cell_type": "markdown",
   "metadata": {},
   "source": [
    "* Retrieve the Item ID, Item Name, and Item Price columns\n",
    "\n",
    "\n",
    "* Group by Item ID and Item Name. Perform calculations to obtain purchase count, item price, and total purchase value\n",
    "\n",
    "\n",
    "* Create a summary data frame to hold the results\n",
    "\n",
    "\n",
    "* Sort the purchase count column in descending order\n",
    "\n",
    "\n",
    "* Optional: give the displayed data cleaner formatting\n",
    "\n",
    "\n",
    "* Display a preview of the summary data frame\n",
    "\n"
   ]
  },
  {
   "cell_type": "code",
   "execution_count": 423,
   "metadata": {},
   "outputs": [
    {
     "output_type": "execute_result",
     "data": {
      "text/plain": "    Item ID                                  Item Name  Price  Purchase Count  \\\n0       108  Extraction, Quickblade Of Trembling Hands   3.53             780   \n1       108  Extraction, Quickblade Of Trembling Hands   3.53             780   \n2       108  Extraction, Quickblade Of Trembling Hands   3.53             780   \n3       108  Extraction, Quickblade Of Trembling Hands   3.53             780   \n4       108  Extraction, Quickblade Of Trembling Hands   3.53             780   \n5       108  Extraction, Quickblade Of Trembling Hands   3.53             780   \n6       108  Extraction, Quickblade Of Trembling Hands   3.53             780   \n7       108  Extraction, Quickblade Of Trembling Hands   3.53             780   \n8       108  Extraction, Quickblade Of Trembling Hands   3.53             780   \n9       108  Extraction, Quickblade Of Trembling Hands   3.53             780   \n10      108  Extraction, Quickblade Of Trembling Hands   3.53             780   \n11      108  Extraction, Quickblade Of Trembling Hands   3.53             780   \n12      108  Extraction, Quickblade Of Trembling Hands   3.53             780   \n13      108  Extraction, Quickblade Of Trembling Hands   3.53             780   \n14      108  Extraction, Quickblade Of Trembling Hands   3.53             780   \n15      108  Extraction, Quickblade Of Trembling Hands   3.53             780   \n16      108  Extraction, Quickblade Of Trembling Hands   3.53             780   \n17      108  Extraction, Quickblade Of Trembling Hands   3.53             780   \n18      108  Extraction, Quickblade Of Trembling Hands   3.53             780   \n19      108  Extraction, Quickblade Of Trembling Hands   3.53             780   \n20      108  Extraction, Quickblade Of Trembling Hands   3.53             780   \n21      108  Extraction, Quickblade Of Trembling Hands   3.53             780   \n22      108  Extraction, Quickblade Of Trembling Hands   3.53             780   \n23      108  Extraction, Quickblade Of Trembling Hands   3.53             780   \n24      108  Extraction, Quickblade Of Trembling Hands   3.53             780   \n25      108  Extraction, Quickblade Of Trembling Hands   3.53             780   \n26      108  Extraction, Quickblade Of Trembling Hands   3.53             780   \n27      108  Extraction, Quickblade Of Trembling Hands   3.53             780   \n28      108  Extraction, Quickblade Of Trembling Hands   3.53             780   \n29      108  Extraction, Quickblade Of Trembling Hands   3.53             780   \n30      108  Extraction, Quickblade Of Trembling Hands   3.53             780   \n31      108  Extraction, Quickblade Of Trembling Hands   3.53             780   \n32      108  Extraction, Quickblade Of Trembling Hands   3.53             780   \n33      108  Extraction, Quickblade Of Trembling Hands   3.53             780   \n34      108  Extraction, Quickblade Of Trembling Hands   3.53             780   \n35      108  Extraction, Quickblade Of Trembling Hands   3.53             780   \n36      108  Extraction, Quickblade Of Trembling Hands   3.53             780   \n37      108  Extraction, Quickblade Of Trembling Hands   3.53             780   \n38      108  Extraction, Quickblade Of Trembling Hands   3.53             780   \n39      108  Extraction, Quickblade Of Trembling Hands   3.53             780   \n40      108  Extraction, Quickblade Of Trembling Hands   3.53             780   \n41      108  Extraction, Quickblade Of Trembling Hands   3.53             780   \n42      108  Extraction, Quickblade Of Trembling Hands   3.53             780   \n43      108  Extraction, Quickblade Of Trembling Hands   3.53             780   \n44      108  Extraction, Quickblade Of Trembling Hands   3.53             780   \n45      108  Extraction, Quickblade Of Trembling Hands   3.53             780   \n46      108  Extraction, Quickblade Of Trembling Hands   3.53             780   \n47      108  Extraction, Quickblade Of Trembling Hands   3.53             780   \n48      108  Extraction, Quickblade Of Trembling Hands   3.53             780   \n49      108  Extraction, Quickblade Of Trembling Hands   3.53             780   \n\n    Total Purchase Value  \n0                2379.77  \n1                2379.77  \n2                2379.77  \n3                2379.77  \n4                2379.77  \n5                2379.77  \n6                2379.77  \n7                2379.77  \n8                2379.77  \n9                2379.77  \n10               2379.77  \n11               2379.77  \n12               2379.77  \n13               2379.77  \n14               2379.77  \n15               2379.77  \n16               2379.77  \n17               2379.77  \n18               2379.77  \n19               2379.77  \n20               2379.77  \n21               2379.77  \n22               2379.77  \n23               2379.77  \n24               2379.77  \n25               2379.77  \n26               2379.77  \n27               2379.77  \n28               2379.77  \n29               2379.77  \n30               2379.77  \n31               2379.77  \n32               2379.77  \n33               2379.77  \n34               2379.77  \n35               2379.77  \n36               2379.77  \n37               2379.77  \n38               2379.77  \n39               2379.77  \n40               2379.77  \n41               2379.77  \n42               2379.77  \n43               2379.77  \n44               2379.77  \n45               2379.77  \n46               2379.77  \n47               2379.77  \n48               2379.77  \n49               2379.77  ",
      "text/html": "<div>\n<style scoped>\n    .dataframe tbody tr th:only-of-type {\n        vertical-align: middle;\n    }\n\n    .dataframe tbody tr th {\n        vertical-align: top;\n    }\n\n    .dataframe thead th {\n        text-align: right;\n    }\n</style>\n<table border=\"1\" class=\"dataframe\">\n  <thead>\n    <tr style=\"text-align: right;\">\n      <th></th>\n      <th>Item ID</th>\n      <th>Item Name</th>\n      <th>Price</th>\n      <th>Purchase Count</th>\n      <th>Total Purchase Value</th>\n    </tr>\n  </thead>\n  <tbody>\n    <tr>\n      <th>0</th>\n      <td>108</td>\n      <td>Extraction, Quickblade Of Trembling Hands</td>\n      <td>3.53</td>\n      <td>780</td>\n      <td>2379.77</td>\n    </tr>\n    <tr>\n      <th>1</th>\n      <td>108</td>\n      <td>Extraction, Quickblade Of Trembling Hands</td>\n      <td>3.53</td>\n      <td>780</td>\n      <td>2379.77</td>\n    </tr>\n    <tr>\n      <th>2</th>\n      <td>108</td>\n      <td>Extraction, Quickblade Of Trembling Hands</td>\n      <td>3.53</td>\n      <td>780</td>\n      <td>2379.77</td>\n    </tr>\n    <tr>\n      <th>3</th>\n      <td>108</td>\n      <td>Extraction, Quickblade Of Trembling Hands</td>\n      <td>3.53</td>\n      <td>780</td>\n      <td>2379.77</td>\n    </tr>\n    <tr>\n      <th>4</th>\n      <td>108</td>\n      <td>Extraction, Quickblade Of Trembling Hands</td>\n      <td>3.53</td>\n      <td>780</td>\n      <td>2379.77</td>\n    </tr>\n    <tr>\n      <th>5</th>\n      <td>108</td>\n      <td>Extraction, Quickblade Of Trembling Hands</td>\n      <td>3.53</td>\n      <td>780</td>\n      <td>2379.77</td>\n    </tr>\n    <tr>\n      <th>6</th>\n      <td>108</td>\n      <td>Extraction, Quickblade Of Trembling Hands</td>\n      <td>3.53</td>\n      <td>780</td>\n      <td>2379.77</td>\n    </tr>\n    <tr>\n      <th>7</th>\n      <td>108</td>\n      <td>Extraction, Quickblade Of Trembling Hands</td>\n      <td>3.53</td>\n      <td>780</td>\n      <td>2379.77</td>\n    </tr>\n    <tr>\n      <th>8</th>\n      <td>108</td>\n      <td>Extraction, Quickblade Of Trembling Hands</td>\n      <td>3.53</td>\n      <td>780</td>\n      <td>2379.77</td>\n    </tr>\n    <tr>\n      <th>9</th>\n      <td>108</td>\n      <td>Extraction, Quickblade Of Trembling Hands</td>\n      <td>3.53</td>\n      <td>780</td>\n      <td>2379.77</td>\n    </tr>\n    <tr>\n      <th>10</th>\n      <td>108</td>\n      <td>Extraction, Quickblade Of Trembling Hands</td>\n      <td>3.53</td>\n      <td>780</td>\n      <td>2379.77</td>\n    </tr>\n    <tr>\n      <th>11</th>\n      <td>108</td>\n      <td>Extraction, Quickblade Of Trembling Hands</td>\n      <td>3.53</td>\n      <td>780</td>\n      <td>2379.77</td>\n    </tr>\n    <tr>\n      <th>12</th>\n      <td>108</td>\n      <td>Extraction, Quickblade Of Trembling Hands</td>\n      <td>3.53</td>\n      <td>780</td>\n      <td>2379.77</td>\n    </tr>\n    <tr>\n      <th>13</th>\n      <td>108</td>\n      <td>Extraction, Quickblade Of Trembling Hands</td>\n      <td>3.53</td>\n      <td>780</td>\n      <td>2379.77</td>\n    </tr>\n    <tr>\n      <th>14</th>\n      <td>108</td>\n      <td>Extraction, Quickblade Of Trembling Hands</td>\n      <td>3.53</td>\n      <td>780</td>\n      <td>2379.77</td>\n    </tr>\n    <tr>\n      <th>15</th>\n      <td>108</td>\n      <td>Extraction, Quickblade Of Trembling Hands</td>\n      <td>3.53</td>\n      <td>780</td>\n      <td>2379.77</td>\n    </tr>\n    <tr>\n      <th>16</th>\n      <td>108</td>\n      <td>Extraction, Quickblade Of Trembling Hands</td>\n      <td>3.53</td>\n      <td>780</td>\n      <td>2379.77</td>\n    </tr>\n    <tr>\n      <th>17</th>\n      <td>108</td>\n      <td>Extraction, Quickblade Of Trembling Hands</td>\n      <td>3.53</td>\n      <td>780</td>\n      <td>2379.77</td>\n    </tr>\n    <tr>\n      <th>18</th>\n      <td>108</td>\n      <td>Extraction, Quickblade Of Trembling Hands</td>\n      <td>3.53</td>\n      <td>780</td>\n      <td>2379.77</td>\n    </tr>\n    <tr>\n      <th>19</th>\n      <td>108</td>\n      <td>Extraction, Quickblade Of Trembling Hands</td>\n      <td>3.53</td>\n      <td>780</td>\n      <td>2379.77</td>\n    </tr>\n    <tr>\n      <th>20</th>\n      <td>108</td>\n      <td>Extraction, Quickblade Of Trembling Hands</td>\n      <td>3.53</td>\n      <td>780</td>\n      <td>2379.77</td>\n    </tr>\n    <tr>\n      <th>21</th>\n      <td>108</td>\n      <td>Extraction, Quickblade Of Trembling Hands</td>\n      <td>3.53</td>\n      <td>780</td>\n      <td>2379.77</td>\n    </tr>\n    <tr>\n      <th>22</th>\n      <td>108</td>\n      <td>Extraction, Quickblade Of Trembling Hands</td>\n      <td>3.53</td>\n      <td>780</td>\n      <td>2379.77</td>\n    </tr>\n    <tr>\n      <th>23</th>\n      <td>108</td>\n      <td>Extraction, Quickblade Of Trembling Hands</td>\n      <td>3.53</td>\n      <td>780</td>\n      <td>2379.77</td>\n    </tr>\n    <tr>\n      <th>24</th>\n      <td>108</td>\n      <td>Extraction, Quickblade Of Trembling Hands</td>\n      <td>3.53</td>\n      <td>780</td>\n      <td>2379.77</td>\n    </tr>\n    <tr>\n      <th>25</th>\n      <td>108</td>\n      <td>Extraction, Quickblade Of Trembling Hands</td>\n      <td>3.53</td>\n      <td>780</td>\n      <td>2379.77</td>\n    </tr>\n    <tr>\n      <th>26</th>\n      <td>108</td>\n      <td>Extraction, Quickblade Of Trembling Hands</td>\n      <td>3.53</td>\n      <td>780</td>\n      <td>2379.77</td>\n    </tr>\n    <tr>\n      <th>27</th>\n      <td>108</td>\n      <td>Extraction, Quickblade Of Trembling Hands</td>\n      <td>3.53</td>\n      <td>780</td>\n      <td>2379.77</td>\n    </tr>\n    <tr>\n      <th>28</th>\n      <td>108</td>\n      <td>Extraction, Quickblade Of Trembling Hands</td>\n      <td>3.53</td>\n      <td>780</td>\n      <td>2379.77</td>\n    </tr>\n    <tr>\n      <th>29</th>\n      <td>108</td>\n      <td>Extraction, Quickblade Of Trembling Hands</td>\n      <td>3.53</td>\n      <td>780</td>\n      <td>2379.77</td>\n    </tr>\n    <tr>\n      <th>30</th>\n      <td>108</td>\n      <td>Extraction, Quickblade Of Trembling Hands</td>\n      <td>3.53</td>\n      <td>780</td>\n      <td>2379.77</td>\n    </tr>\n    <tr>\n      <th>31</th>\n      <td>108</td>\n      <td>Extraction, Quickblade Of Trembling Hands</td>\n      <td>3.53</td>\n      <td>780</td>\n      <td>2379.77</td>\n    </tr>\n    <tr>\n      <th>32</th>\n      <td>108</td>\n      <td>Extraction, Quickblade Of Trembling Hands</td>\n      <td>3.53</td>\n      <td>780</td>\n      <td>2379.77</td>\n    </tr>\n    <tr>\n      <th>33</th>\n      <td>108</td>\n      <td>Extraction, Quickblade Of Trembling Hands</td>\n      <td>3.53</td>\n      <td>780</td>\n      <td>2379.77</td>\n    </tr>\n    <tr>\n      <th>34</th>\n      <td>108</td>\n      <td>Extraction, Quickblade Of Trembling Hands</td>\n      <td>3.53</td>\n      <td>780</td>\n      <td>2379.77</td>\n    </tr>\n    <tr>\n      <th>35</th>\n      <td>108</td>\n      <td>Extraction, Quickblade Of Trembling Hands</td>\n      <td>3.53</td>\n      <td>780</td>\n      <td>2379.77</td>\n    </tr>\n    <tr>\n      <th>36</th>\n      <td>108</td>\n      <td>Extraction, Quickblade Of Trembling Hands</td>\n      <td>3.53</td>\n      <td>780</td>\n      <td>2379.77</td>\n    </tr>\n    <tr>\n      <th>37</th>\n      <td>108</td>\n      <td>Extraction, Quickblade Of Trembling Hands</td>\n      <td>3.53</td>\n      <td>780</td>\n      <td>2379.77</td>\n    </tr>\n    <tr>\n      <th>38</th>\n      <td>108</td>\n      <td>Extraction, Quickblade Of Trembling Hands</td>\n      <td>3.53</td>\n      <td>780</td>\n      <td>2379.77</td>\n    </tr>\n    <tr>\n      <th>39</th>\n      <td>108</td>\n      <td>Extraction, Quickblade Of Trembling Hands</td>\n      <td>3.53</td>\n      <td>780</td>\n      <td>2379.77</td>\n    </tr>\n    <tr>\n      <th>40</th>\n      <td>108</td>\n      <td>Extraction, Quickblade Of Trembling Hands</td>\n      <td>3.53</td>\n      <td>780</td>\n      <td>2379.77</td>\n    </tr>\n    <tr>\n      <th>41</th>\n      <td>108</td>\n      <td>Extraction, Quickblade Of Trembling Hands</td>\n      <td>3.53</td>\n      <td>780</td>\n      <td>2379.77</td>\n    </tr>\n    <tr>\n      <th>42</th>\n      <td>108</td>\n      <td>Extraction, Quickblade Of Trembling Hands</td>\n      <td>3.53</td>\n      <td>780</td>\n      <td>2379.77</td>\n    </tr>\n    <tr>\n      <th>43</th>\n      <td>108</td>\n      <td>Extraction, Quickblade Of Trembling Hands</td>\n      <td>3.53</td>\n      <td>780</td>\n      <td>2379.77</td>\n    </tr>\n    <tr>\n      <th>44</th>\n      <td>108</td>\n      <td>Extraction, Quickblade Of Trembling Hands</td>\n      <td>3.53</td>\n      <td>780</td>\n      <td>2379.77</td>\n    </tr>\n    <tr>\n      <th>45</th>\n      <td>108</td>\n      <td>Extraction, Quickblade Of Trembling Hands</td>\n      <td>3.53</td>\n      <td>780</td>\n      <td>2379.77</td>\n    </tr>\n    <tr>\n      <th>46</th>\n      <td>108</td>\n      <td>Extraction, Quickblade Of Trembling Hands</td>\n      <td>3.53</td>\n      <td>780</td>\n      <td>2379.77</td>\n    </tr>\n    <tr>\n      <th>47</th>\n      <td>108</td>\n      <td>Extraction, Quickblade Of Trembling Hands</td>\n      <td>3.53</td>\n      <td>780</td>\n      <td>2379.77</td>\n    </tr>\n    <tr>\n      <th>48</th>\n      <td>108</td>\n      <td>Extraction, Quickblade Of Trembling Hands</td>\n      <td>3.53</td>\n      <td>780</td>\n      <td>2379.77</td>\n    </tr>\n    <tr>\n      <th>49</th>\n      <td>108</td>\n      <td>Extraction, Quickblade Of Trembling Hands</td>\n      <td>3.53</td>\n      <td>780</td>\n      <td>2379.77</td>\n    </tr>\n  </tbody>\n</table>\n</div>"
     },
     "metadata": {},
     "execution_count": 423
    }
   ],
   "source": [
    "popitems_df = purchase_data[[\"Item ID\",\"Item Name\",\"Price\"]]\n",
    "\n",
    "#grouped_popitems_df = popitems_df.groupby([\"Item ID\"])\n",
    "\n",
    "item_id = popitems_df[\"Item ID\"]\n",
    "popitem_count = popitems_df[\"Item ID\"].count()\n",
    "popitem_total_value = popitems_df[\"Price\"].sum()\n",
    "#popitem_price = pd.to_numeric(grouped_popitems_df[\"Price\"])\n",
    "\n",
    "summary_popitems_df = pd.DataFrame({\"Item ID\":item_id,\"Purchase Count\":popitem_count,\"Total Purchase Value\":popitem_total_value})\n",
    "full_popitems_df = pd.merge(popitems_df,summary_popitems_df,on=\"Item ID\")\n",
    "full_popitems_df.head(50)"
   ]
  },
  {
   "cell_type": "markdown",
   "metadata": {},
   "source": [
    "## Most Profitable Items"
   ]
  },
  {
   "cell_type": "markdown",
   "metadata": {},
   "source": [
    "* Sort the above table by total purchase value in descending order\n",
    "\n",
    "\n",
    "* Optional: give the displayed data cleaner formatting\n",
    "\n",
    "\n",
    "* Display a preview of the data frame\n",
    "\n"
   ]
  },
  {
   "cell_type": "code",
   "execution_count": 10,
   "metadata": {
    "scrolled": true
   },
   "outputs": [
    {
     "data": {
      "text/html": [
       "<div>\n",
       "<style scoped>\n",
       "    .dataframe tbody tr th:only-of-type {\n",
       "        vertical-align: middle;\n",
       "    }\n",
       "\n",
       "    .dataframe tbody tr th {\n",
       "        vertical-align: top;\n",
       "    }\n",
       "\n",
       "    .dataframe thead th {\n",
       "        text-align: right;\n",
       "    }\n",
       "</style>\n",
       "<table border=\"1\" class=\"dataframe\">\n",
       "  <thead>\n",
       "    <tr style=\"text-align: right;\">\n",
       "      <th></th>\n",
       "      <th></th>\n",
       "      <th>Purchase Count</th>\n",
       "      <th>Item Price</th>\n",
       "      <th>Total Purchase Value</th>\n",
       "    </tr>\n",
       "    <tr>\n",
       "      <th>Item ID</th>\n",
       "      <th>Item Name</th>\n",
       "      <th></th>\n",
       "      <th></th>\n",
       "      <th></th>\n",
       "    </tr>\n",
       "  </thead>\n",
       "  <tbody>\n",
       "    <tr>\n",
       "      <th>92</th>\n",
       "      <th>Final Critic</th>\n",
       "      <td>13</td>\n",
       "      <td>$4.61</td>\n",
       "      <td>$59.99</td>\n",
       "    </tr>\n",
       "    <tr>\n",
       "      <th>178</th>\n",
       "      <th>Oathbreaker, Last Hope of the Breaking Storm</th>\n",
       "      <td>12</td>\n",
       "      <td>$4.23</td>\n",
       "      <td>$50.76</td>\n",
       "    </tr>\n",
       "    <tr>\n",
       "      <th>82</th>\n",
       "      <th>Nirvana</th>\n",
       "      <td>9</td>\n",
       "      <td>$4.90</td>\n",
       "      <td>$44.10</td>\n",
       "    </tr>\n",
       "    <tr>\n",
       "      <th>145</th>\n",
       "      <th>Fiery Glass Crusader</th>\n",
       "      <td>9</td>\n",
       "      <td>$4.58</td>\n",
       "      <td>$41.22</td>\n",
       "    </tr>\n",
       "    <tr>\n",
       "      <th>103</th>\n",
       "      <th>Singed Scalpel</th>\n",
       "      <td>8</td>\n",
       "      <td>$4.35</td>\n",
       "      <td>$34.80</td>\n",
       "    </tr>\n",
       "  </tbody>\n",
       "</table>\n",
       "</div>"
      ],
      "text/plain": [
       "                                                     Purchase Count  \\\n",
       "Item ID Item Name                                                     \n",
       "92      Final Critic                                             13   \n",
       "178     Oathbreaker, Last Hope of the Breaking Storm             12   \n",
       "82      Nirvana                                                   9   \n",
       "145     Fiery Glass Crusader                                      9   \n",
       "103     Singed Scalpel                                            8   \n",
       "\n",
       "                                                     Item Price  \\\n",
       "Item ID Item Name                                                 \n",
       "92      Final Critic                                      $4.61   \n",
       "178     Oathbreaker, Last Hope of the Breaking Storm      $4.23   \n",
       "82      Nirvana                                           $4.90   \n",
       "145     Fiery Glass Crusader                              $4.58   \n",
       "103     Singed Scalpel                                    $4.35   \n",
       "\n",
       "                                                     Total Purchase Value  \n",
       "Item ID Item Name                                                          \n",
       "92      Final Critic                                               $59.99  \n",
       "178     Oathbreaker, Last Hope of the Breaking Storm               $50.76  \n",
       "82      Nirvana                                                    $44.10  \n",
       "145     Fiery Glass Crusader                                       $41.22  \n",
       "103     Singed Scalpel                                             $34.80  "
      ]
     },
     "execution_count": 10,
     "metadata": {},
     "output_type": "execute_result"
    }
   ],
   "source": []
  }
 ],
 "metadata": {
  "anaconda-cloud": {},
  "kernel_info": {
   "name": "python3"
  },
  "kernelspec": {
   "display_name": "Python 3.6.10 64-bit",
   "language": "python",
   "name": "python_defaultSpec_1597703456743"
  },
  "language_info": {
   "codemirror_mode": {
    "name": "ipython",
    "version": 3
   },
   "file_extension": ".py",
   "mimetype": "text/x-python",
   "name": "python",
   "nbconvert_exporter": "python",
   "pygments_lexer": "ipython3",
   "version": "3.6.10-final"
  },
  "latex_envs": {
   "LaTeX_envs_menu_present": true,
   "autoclose": false,
   "autocomplete": true,
   "bibliofile": "biblio.bib",
   "cite_by": "apalike",
   "current_citInitial": 1,
   "eqLabelWithNumbers": true,
   "eqNumInitial": 1,
   "hotkeys": {
    "equation": "Ctrl-E",
    "itemize": "Ctrl-I"
   },
   "labels_anchors": false,
   "latex_user_defs": false,
   "report_style_numbering": false,
   "user_envs_cfg": false
  },
  "nteract": {
   "version": "0.2.0"
  }
 },
 "nbformat": 4,
 "nbformat_minor": 2
}